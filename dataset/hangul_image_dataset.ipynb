{
  "nbformat": 4,
  "nbformat_minor": 0,
  "metadata": {
    "colab": {
      "name": "hangul_image_dataset (2).ipynb",
      "provenance": []
    },
    "kernelspec": {
      "name": "python3",
      "display_name": "Python 3"
    },
    "language_info": {
      "name": "python"
    }
  },
  "cells": [
    {
      "cell_type": "markdown",
      "metadata": {
        "id": "SjzPNfrhpXC5"
      },
      "source": [
        "## 한글 이미지 데이터셋 생성\n",
        "- 한글 서명 모델 학습을 위해 제작, 1차는 한글 자체를 생성하기 위함\n",
        "- 이미지 자체를 디렉토리에 저장"
      ]
    },
    {
      "cell_type": "code",
      "metadata": {
        "colab": {
          "base_uri": "https://localhost:8080/"
        },
        "id": "_-mJLWEfyx4Y",
        "outputId": "b5d65c38-f64e-4a53-9205-4a4f02a33562"
      },
      "source": [
        "# -*- coding: utf-8 -*-\n",
        "from __future__ import print_function\n",
        "from __future__ import absolute_import\n",
        "\n",
        "import argparse\n",
        "import sys\n",
        "import numpy as np\n",
        "import os\n",
        "from PIL import Image\n",
        "from PIL import ImageDraw\n",
        "from PIL import ImageFont\n",
        "import json\n",
        "import collections\n",
        "\n",
        "from google.colab import drive\n",
        "drive.mount('/content/gdrive')"
      ],
      "execution_count": null,
      "outputs": [
        {
          "output_type": "stream",
          "text": [
            "Drive already mounted at /content/gdrive; to attempt to forcibly remount, call drive.mount(\"/content/gdrive\", force_remount=True).\n"
          ],
          "name": "stdout"
        }
      ]
    },
    {
      "cell_type": "code",
      "metadata": {
        "id": "9X8hIfvqd0sk"
      },
      "source": [
        "# 하나의 한글 글자를 이미지에 씀\n",
        "def draw_single_char(ch, font, canvas_size, x_offset, y_offset):\n",
        "    img = Image.new(\"L\", (canvas_size, canvas_size), color=255)\n",
        "    draw = ImageDraw.Draw(img)\n",
        "    draw.text((x_offset, y_offset), ch, fill=(0), font=font)\n",
        "    flag = np.sum(np.array(img))\n",
        "    if flag == 255 * 128 * 128:\n",
        "        return None\n",
        "    return img\n",
        "\n",
        "# dst_font와 src_font로 글자를 각각 쓴 두 이미지를 연결\n",
        "def draw_example(ch, src_font, dst_font, canvas_size, x_offset, y_offset):\n",
        "    dst_img = draw_single_char(ch, dst_font, canvas_size, x_offset, y_offset)\n",
        "    if not dst_img:\n",
        "        return None\n",
        "    src_img = draw_single_char(ch, src_font, canvas_size, x_offset, y_offset)\n",
        "    example_img = Image.new(\"RGB\", (canvas_size * 2, canvas_size), (255, 255, 255)).convert('L')\n",
        "    example_img.paste(dst_img, (0, 0))\n",
        "    example_img.paste(src_img, (canvas_size, 0))\n",
        "    return example_img\n",
        "\n",
        "# 배열에 있는 모든 한글들을 이미지로 생성\n",
        "def font2img(src, dst, charset, char_size, canvas_size, x_offset, y_offset, sample_dir, label):\n",
        "    src_font = ImageFont.truetype(src, size=char_size)\n",
        "    dst_font = ImageFont.truetype(dst, size=char_size)\n",
        "    count = 0\n",
        "    for c in charset:\n",
        "        e = draw_example(c, src_font, dst_font, canvas_size, x_offset, y_offset)\n",
        "        if e:\n",
        "            e.save(os.path.join(sample_dir, \"%d_%04d.jpg\" % (label, count)))\n",
        "            count += 1"
      ],
      "execution_count": null,
      "outputs": []
    },
    {
      "cell_type": "code",
      "metadata": {
        "colab": {
          "base_uri": "https://localhost:8080/"
        },
        "id": "D9YsPQGSd00i",
        "outputId": "0467e00f-a020-46d2-fa35-307b4df1f565"
      },
      "source": [
        "src_path = './gdrive/MyDrive/hangul/srcttf/'\n",
        "dst_path = './gdrive/MyDrive/hangul/dstttf/'\n",
        "src_font = src_path + 'source_font.ttf'\n",
        "dst_fonts = os.listdir(dst_path)\n",
        "f = open(\"./2350-common-hangul.txt\", 'r', encoding='cp949')\n",
        "charset = f.readlines()\n",
        "char_size, canvas_size = 150, 256\n",
        "x_offset, y_offset = 20, 20\n",
        "sample_dir = './gdrive/MyDrive/hangul/dataset/'\n",
        "label = 0\n",
        "\n",
        "# 이미지 자체를 저장해서 데이터셋으로 사용\n",
        "for dst_font in dst_fonts:\n",
        "    font2img(src_font, dst_path + dst_font, charset, char_size, canvas_size,\n",
        "        x_offset, y_offset, sample_dir, label)\n",
        "    label += 1\n",
        "    print('font#%02d 데이터셋 생성 완료' % (label))"
      ],
      "execution_count": null,
      "outputs": [
        {
          "output_type": "stream",
          "text": [
            "font#01 데이터셋 생성 완료\n",
            "font#02 데이터셋 생성 완료\n",
            "font#03 데이터셋 생성 완료\n",
            "font#04 데이터셋 생성 완료\n",
            "font#05 데이터셋 생성 완료\n",
            "font#06 데이터셋 생성 완료\n",
            "font#07 데이터셋 생성 완료\n",
            "font#08 데이터셋 생성 완료\n",
            "font#09 데이터셋 생성 완료\n",
            "font#10 데이터셋 생성 완료\n",
            "font#11 데이터셋 생성 완료\n",
            "font#12 데이터셋 생성 완료\n",
            "font#13 데이터셋 생성 완료\n",
            "font#14 데이터셋 생성 완료\n",
            "font#15 데이터셋 생성 완료\n",
            "font#16 데이터셋 생성 완료\n",
            "font#17 데이터셋 생성 완료\n",
            "font#18 데이터셋 생성 완료\n",
            "font#19 데이터셋 생성 완료\n",
            "font#20 데이터셋 생성 완료\n",
            "font#21 데이터셋 생성 완료\n",
            "font#22 데이터셋 생성 완료\n",
            "font#23 데이터셋 생성 완료\n",
            "font#24 데이터셋 생성 완료\n",
            "font#25 데이터셋 생성 완료\n",
            "font#26 데이터셋 생성 완료\n",
            "font#27 데이터셋 생성 완료\n",
            "font#28 데이터셋 생성 완료\n",
            "font#29 데이터셋 생성 완료\n",
            "font#30 데이터셋 생성 완료\n",
            "font#31 데이터셋 생성 완료\n",
            "font#32 데이터셋 생성 완료\n",
            "font#33 데이터셋 생성 완료\n",
            "font#34 데이터셋 생성 완료\n",
            "font#35 데이터셋 생성 완료\n",
            "font#36 데이터셋 생성 완료\n",
            "font#37 데이터셋 생성 완료\n",
            "font#38 데이터셋 생성 완료\n",
            "font#39 데이터셋 생성 완료\n",
            "font#40 데이터셋 생성 완료\n",
            "font#41 데이터셋 생성 완료\n",
            "font#42 데이터셋 생성 완료\n",
            "font#43 데이터셋 생성 완료\n",
            "font#44 데이터셋 생성 완료\n",
            "font#45 데이터셋 생성 완료\n",
            "font#46 데이터셋 생성 완료\n",
            "font#47 데이터셋 생성 완료\n",
            "font#48 데이터셋 생성 완료\n",
            "font#49 데이터셋 생성 완료\n",
            "font#50 데이터셋 생성 완료\n",
            "font#51 데이터셋 생성 완료\n",
            "font#52 데이터셋 생성 완료\n",
            "font#53 데이터셋 생성 완료\n"
          ],
          "name": "stdout"
        }
      ]
    },
    {
      "cell_type": "code",
      "metadata": {
        "id": "9NHDgeS8gb-G"
      },
      "source": [
        ""
      ],
      "execution_count": null,
      "outputs": []
    }
  ]
}