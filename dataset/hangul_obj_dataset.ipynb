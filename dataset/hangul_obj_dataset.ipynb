{
  "nbformat": 4,
  "nbformat_minor": 0,
  "metadata": {
    "colab": {
      "name": "hangul obj dataset.ipynb",
      "provenance": []
    },
    "kernelspec": {
      "name": "python3",
      "display_name": "Python 3"
    },
    "language_info": {
      "name": "python"
    }
  },
  "cells": [
    {
      "cell_type": "code",
      "metadata": {
        "colab": {
          "base_uri": "https://localhost:8080/"
        },
        "id": "_-mJLWEfyx4Y",
        "outputId": "5d3fb93c-add5-4620-e09a-0f2394f4c599"
      },
      "source": [
        "# -*- coding: utf-8 -*-\n",
        "from __future__ import print_function\n",
        "from __future__ import absolute_import\n",
        "\n",
        "import argparse\n",
        "import glob\n",
        "import os\n",
        "import pickle\n",
        "import random\n",
        "\n",
        "from google.colab import drive\n",
        "drive.mount('/content/gdrive')"
      ],
      "execution_count": 28,
      "outputs": [
        {
          "output_type": "stream",
          "text": [
            "Drive already mounted at /content/gdrive; to attempt to forcibly remount, call drive.mount(\"/content/gdrive\", force_remount=True).\n"
          ],
          "name": "stdout"
        }
      ]
    },
    {
      "cell_type": "code",
      "metadata": {
        "id": "9X8hIfvqd0sk"
      },
      "source": [
        "def pickle_examples(paths, train_path, val_path, train_val_split, with_charid):\n",
        "    with open(train_path, 'wb') as ft:\n",
        "        with open(val_path, 'wb') as fv:\n",
        "            print('all data num:', len(paths))\n",
        "            c = 1\n",
        "            val_count = 0\n",
        "            train_count = 0\n",
        "            if with_charid:\n",
        "                for p in paths:\n",
        "                    c += 1\n",
        "                    label = int(os.path.basename(p).split(\"_\")[0])\n",
        "                    charid = int(os.path.basename(p).split(\"_\")[1].split(\".\")[0])\n",
        "                    with open(p, 'rb') as f:\n",
        "                        img_bytes = f.read()\n",
        "                        example = (label, charid, img_bytes)\n",
        "                        r = random.random()\n",
        "                        if r < train_val_split:\n",
        "                            pickle.dump(example, fv)\n",
        "                            val_count += 1\n",
        "                            if val_count % 10000 == 0:\n",
        "                                print(\"%d imgs saved in val.obj\" % val_count)\n",
        "                        else:\n",
        "                            pickle.dump(example, ft)\n",
        "                            train_count += 1\n",
        "                            if train_count % 10000 == 0:\n",
        "                                print(\"%d imgs saved in train.obj\" % train_count)\n",
        "                print(\"%d imgs saved in val.obj, end\" % val_count)\n",
        "                print(\"%d imgs saved in train.obj, end\" % train_count)\n",
        "\n",
        "            else:\n",
        "                for p in paths:\n",
        "                    c += 1\n",
        "                    label = int(os.path.basename(p).split(\"_\")[0])\n",
        "                    with open(p, 'rb') as f:\n",
        "                        img_bytes = f.read()\n",
        "                        example = (label, img_bytes)\n",
        "                        r = random.random()\n",
        "                        if r < train_val_split:\n",
        "                            pickle.dump(example, fv)\n",
        "                            val_count += 1\n",
        "                            if val_count % 10000 == 0:\n",
        "                                print(\"%d imgs saved in val.obj\" % val_count)\n",
        "                        else:\n",
        "                            pickle.dump(example, ft)\n",
        "                            train_count += 1\n",
        "                            if train_count % 10000 == 0:\n",
        "                                print(\"%d imgs saved in train.obj\" % train_count)\n",
        "                print(\"%d imgs saved in val.obj, end\" % val_count)\n",
        "                print(\"%d imgs saved in train.obj, end\" % train_count)"
      ],
      "execution_count": 35,
      "outputs": []
    },
    {
      "cell_type": "code",
      "metadata": {
        "colab": {
          "base_uri": "https://localhost:8080/"
        },
        "id": "D9YsPQGSd00i",
        "outputId": "487d38ab-3c98-422e-c1aa-627175826dd6"
      },
      "source": [
        "dir = './gdrive/MyDrive/hangul/dataset/'\n",
        "save_dir = './gdrive/MyDrive/hangul/obj_dataset/'\n",
        "split_ratio = 0.2\n",
        "\n",
        "train_path = os.path.join(save_dir, \"train.obj\")\n",
        "val_path = os.path.join(save_dir, \"val.obj\")\n",
        "pickle_examples(sorted(glob.glob(os.path.join(dir, \"*.jpg\"))), train_path=train_path, val_path=val_path, train_val_split=split_ratio, with_charid=True)"
      ],
      "execution_count": 37,
      "outputs": [
        {
          "output_type": "stream",
          "text": [
            "all data num: 124060\n",
            "10000 imgs saved in train.obj\n",
            "20000 imgs saved in train.obj\n",
            "30000 imgs saved in train.obj\n",
            "40000 imgs saved in train.obj\n",
            "10000 imgs saved in val.obj\n",
            "50000 imgs saved in train.obj\n",
            "60000 imgs saved in train.obj\n",
            "70000 imgs saved in train.obj\n",
            "80000 imgs saved in train.obj\n",
            "20000 imgs saved in val.obj\n",
            "90000 imgs saved in train.obj\n",
            "24818 imgs saved in val.obj, end\n",
            "99242 imgs saved in train.obj, end\n"
          ],
          "name": "stdout"
        }
      ]
    },
    {
      "cell_type": "code",
      "metadata": {
        "id": "9NHDgeS8gb-G"
      },
      "source": [
        ""
      ],
      "execution_count": null,
      "outputs": []
    }
  ]
}