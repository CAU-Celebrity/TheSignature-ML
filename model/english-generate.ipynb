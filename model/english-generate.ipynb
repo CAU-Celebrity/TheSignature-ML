{
  "nbformat": 4,
  "nbformat_minor": 0,
  "metadata": {
    "colab": {
      "name": "generation.ipynb",
      "provenance": [],
      "collapsed_sections": []
    },
    "kernelspec": {
      "name": "python3",
      "display_name": "Python 3"
    },
    "language_info": {
      "name": "python"
    },
    "accelerator": "GPU"
  },
  "cells": [
    {
      "cell_type": "markdown",
      "metadata": {
        "id": "pCBpUTceq0HH"
      },
      "source": [
        "## 학습된 영어 알파벳 생성 모델로 이름 생성하기\n",
        "- 생성 모델은 알파벳 별로 GAN-model/[alphabet]-generator 형식으로 저장되어 있음\n",
        "- 세번째 셀에 이름을 입력하면 모델의 이미지 생성 -> 이미지 처리 과정을 거쳐 handwriting_name.jpg로 저장됨"
      ]
    },
    {
      "cell_type": "code",
      "metadata": {
        "colab": {
          "base_uri": "https://localhost:8080/"
        },
        "id": "r-jKyHk24cJO",
        "outputId": "afadb2c5-7b28-461d-f07a-d85e2f6edd3c"
      },
      "source": [
        "from google.colab import drive\n",
        "drive.mount('/content/gdrive')"
      ],
      "execution_count": null,
      "outputs": [
        {
          "output_type": "stream",
          "text": [
            "Mounted at /content/gdrive\n"
          ],
          "name": "stdout"
        }
      ]
    },
    {
      "cell_type": "code",
      "metadata": {
        "id": "ZSQEOLPT4w2w"
      },
      "source": [
        "import tensorflow as tf\n",
        "import matplotlib.pyplot as plt\n",
        "from PIL import Image\n",
        "import numpy as np\n",
        "import cv2"
      ],
      "execution_count": null,
      "outputs": []
    },
    {
      "cell_type": "code",
      "metadata": {
        "colab": {
          "base_uri": "https://localhost:8080/"
        },
        "id": "H4_ZanQb40VD",
        "outputId": "276782f0-5e85-4113-d5e9-7d8f0652b40d"
      },
      "source": [
        "# 이름 입력 받기\n",
        "\n",
        "name = input()\n",
        "name = name.replace(\" \", \"\").lower()"
      ],
      "execution_count": null,
      "outputs": [
        {
          "output_type": "stream",
          "text": [
            "Yula\n"
          ],
          "name": "stdout"
        }
      ]
    },
    {
      "cell_type": "code",
      "metadata": {
        "id": "vwQ4uLAX_BfS"
      },
      "source": [
        "# 모델로 각 알파벳 생성\n",
        "\n",
        "def generate(num):\n",
        "  model_name = '/content/gdrive/My Drive/GAN-model/'+ name[num] + '-generator'\n",
        "  model = tf.keras.models.load_model(model_name, compile=False)\n",
        "  new_generated_image = model(tf.random.normal([16, 100]), training=False)\n",
        "  plt.imshow(new_generated_image[1, :, :, 0] * 127.5 + 127.5, cmap='gray')\n",
        "  plt.axis('off')\n",
        "  plt.savefig('original'+str(num)+'.jpg')"
      ],
      "execution_count": null,
      "outputs": []
    },
    {
      "cell_type": "code",
      "metadata": {
        "id": "C8Xby-DIMsfx"
      },
      "source": [
        "# 알파벳 이미지 공백 없게 자르기\n",
        "\n",
        "def crop_image(num):\n",
        "  image = cv2.imread('original'+str(num)+'.jpg', 0)\n",
        "  blur = cv2.GaussianBlur(image, ksize=(3,3), sigmaX=0)\n",
        "  ret, thresh1 = cv2.threshold(blur, 127, 255, cv2.THRESH_BINARY)\n",
        "  edged = cv2.Canny(blur, 10, 250)\n",
        "  kernel = cv2.getStructuringElement(cv2.MORPH_RECT, (7,7))\n",
        "  closed = cv2.morphologyEx(edged, cv2.MORPH_CLOSE, kernel)\n",
        "  contours, _ = cv2.findContours(closed.copy(),cv2.RETR_EXTERNAL, cv2.CHAIN_APPROX_SIMPLE)\n",
        "  total = 0\n",
        "  contours_xy = np.array(contours)\n",
        "  x_min, x_max = 0,0\n",
        "  value = list()\n",
        "  for i in range(len(contours_xy)):\n",
        "    for j in range(len(contours_xy[i])):\n",
        "      value.append(contours_xy[i][j][0][0])\n",
        "      x_min = min(value)\n",
        "      x_max = max(value)\n",
        " \n",
        "  y_min, y_max = 0,0\n",
        "  value = list()\n",
        "  for i in range(len(contours_xy)):\n",
        "    for j in range(len(contours_xy[i])):\n",
        "      value.append(contours_xy[i][j][0][1])\n",
        "      y_min = min(value)\n",
        "      y_max = max(value)\n",
        "\n",
        "  x = x_min\n",
        "  y = y_min\n",
        "  w = x_max-x_min\n",
        "  h = y_max-y_min\n",
        "\n",
        "  img_trim = image[y:y+h, x:x+w]\n",
        "\n",
        "  return img_trim"
      ],
      "execution_count": null,
      "outputs": []
    },
    {
      "cell_type": "code",
      "metadata": {
        "id": "cjt3Cwc10Bqd"
      },
      "source": [
        "# 알파벳 이미지들 하나로 합쳐서 저장\n",
        "\n",
        "merged_image = np.zeros((2, 2))\n",
        "\n",
        "def merge_image(single_image):\n",
        "  global merged_image\n",
        "\n",
        "  if len(merged_image) < len(single_image):\n",
        "    width = len(merged_image[0])\n",
        "    height = len(single_image)\n",
        "    new_merged_image = np.full((height, width), 255)\n",
        "    new_merged_image[height-len(merged_image):,:] = merged_image\n",
        "    merged_image = np.concatenate((new_merged_image, single_image), axis=1)\n",
        "\n",
        "  else:\n",
        "    width = len(single_image[0])\n",
        "    height = len(merged_image)\n",
        "    new_single_image = np.full((height, width), 255)\n",
        "    new_single_image[height-len(single_image):,:] = single_image\n",
        "    merged_image = np.concatenate((merged_image, new_single_image), axis=1)"
      ],
      "execution_count": null,
      "outputs": []
    },
    {
      "cell_type": "code",
      "metadata": {
        "id": "Ow5a4rwa0Cr9",
        "colab": {
          "base_uri": "https://localhost:8080/",
          "height": 248
        },
        "outputId": "0d27a6f0-b39d-445d-e1ad-52149580b0e7"
      },
      "source": [
        "for num in range(len(name)):\n",
        "  generate(num)\n",
        "  single_image = crop_image(num)\n",
        "  merge_image(single_image)\n",
        "\n",
        "image = Image.fromarray(merged_image.astype('uint8'), 'L')\n",
        "image.save('handwriting_name.jpg')"
      ],
      "execution_count": null,
      "outputs": [
        {
          "output_type": "display_data",
          "data": {
            "image/png": "[encoded data removed]",
            "text/plain": [
              "<Figure size 432x288 with 1 Axes>"
            ]
          },
          "metadata": {
            "tags": [],
            "needs_background": "light"
          }
        }
      ]
    },
    {
      "cell_type": "code",
      "metadata": {
        "id": "K48zZDR-oIy8"
      },
      "source": [
        ""
      ],
      "execution_count": null,
      "outputs": []
    }
  ]
}